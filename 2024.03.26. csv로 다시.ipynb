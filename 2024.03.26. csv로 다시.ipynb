{
 "cells": [
  {
   "cell_type": "code",
   "execution_count": 214,
   "id": "26c36289",
   "metadata": {},
   "outputs": [],
   "source": [
    "import pandas as pd\n",
    "import numpy as np\n",
    "import seaborn as sns\n",
    "import matplotlib.pyplot as plt\n",
    "\n",
    "%matplotlib inline"
   ]
  },
  {
   "cell_type": "code",
   "execution_count": 215,
   "id": "d5affe4b",
   "metadata": {},
   "outputs": [
    {
     "data": {
      "text/html": [
       "<div>\n",
       "<style scoped>\n",
       "    .dataframe tbody tr th:only-of-type {\n",
       "        vertical-align: middle;\n",
       "    }\n",
       "\n",
       "    .dataframe tbody tr th {\n",
       "        vertical-align: top;\n",
       "    }\n",
       "\n",
       "    .dataframe thead th {\n",
       "        text-align: right;\n",
       "    }\n",
       "</style>\n",
       "<table border=\"1\" class=\"dataframe\">\n",
       "  <thead>\n",
       "    <tr style=\"text-align: right;\">\n",
       "      <th></th>\n",
       "      <th>날짜</th>\n",
       "      <th>종가</th>\n",
       "      <th>시가</th>\n",
       "      <th>고가</th>\n",
       "      <th>저가</th>\n",
       "      <th>거래량</th>\n",
       "      <th>변동 %</th>\n",
       "    </tr>\n",
       "  </thead>\n",
       "  <tbody>\n",
       "    <tr>\n",
       "      <th>0</th>\n",
       "      <td>2019- 04- 05</td>\n",
       "      <td>85.40</td>\n",
       "      <td>86.00</td>\n",
       "      <td>86.16</td>\n",
       "      <td>85.05</td>\n",
       "      <td>7.37M</td>\n",
       "      <td>0.14%</td>\n",
       "    </tr>\n",
       "    <tr>\n",
       "      <th>1</th>\n",
       "      <td>2019- 04- 04</td>\n",
       "      <td>85.28</td>\n",
       "      <td>84.49</td>\n",
       "      <td>85.38</td>\n",
       "      <td>84.36</td>\n",
       "      <td>3.66M</td>\n",
       "      <td>0.96%</td>\n",
       "    </tr>\n",
       "    <tr>\n",
       "      <th>2</th>\n",
       "      <td>2019- 04- 03</td>\n",
       "      <td>84.47</td>\n",
       "      <td>84.90</td>\n",
       "      <td>84.99</td>\n",
       "      <td>84.25</td>\n",
       "      <td>4.08M</td>\n",
       "      <td>0.12%</td>\n",
       "    </tr>\n",
       "    <tr>\n",
       "      <th>3</th>\n",
       "      <td>2019- 04- 02</td>\n",
       "      <td>84.37</td>\n",
       "      <td>85.00</td>\n",
       "      <td>85.26</td>\n",
       "      <td>84.16</td>\n",
       "      <td>4.43M</td>\n",
       "      <td>-1.01%</td>\n",
       "    </tr>\n",
       "    <tr>\n",
       "      <th>4</th>\n",
       "      <td>2019- 04- 01</td>\n",
       "      <td>85.23</td>\n",
       "      <td>85.04</td>\n",
       "      <td>85.32</td>\n",
       "      <td>84.70</td>\n",
       "      <td>6.74M</td>\n",
       "      <td>1.21%</td>\n",
       "    </tr>\n",
       "  </tbody>\n",
       "</table>\n",
       "</div>"
      ],
      "text/plain": [
       "             날짜     종가     시가     고가     저가    거래량    변동 %\n",
       "0  2019- 04- 05  85.40  86.00  86.16  85.05  7.37M   0.14%\n",
       "1  2019- 04- 04  85.28  84.49  85.38  84.36  3.66M   0.96%\n",
       "2  2019- 04- 03  84.47  84.90  84.99  84.25  4.08M   0.12%\n",
       "3  2019- 04- 02  84.37  85.00  85.26  84.16  4.43M  -1.01%\n",
       "4  2019- 04- 01  85.23  85.04  85.32  84.70  6.74M   1.21%"
      ]
     },
     "execution_count": 215,
     "metadata": {},
     "output_type": "execute_result"
    }
   ],
   "source": [
    "nke_data = pd.read_csv('data/NKE 과거 데이터.csv')\n",
    "nke_data.head()\n",
    "\n",
    "# 한글로 되어있어 closed -> 종가"
   ]
  },
  {
   "cell_type": "code",
   "execution_count": 216,
   "id": "9cbe6cbc",
   "metadata": {},
   "outputs": [
    {
     "data": {
      "text/html": [
       "<div>\n",
       "<style scoped>\n",
       "    .dataframe tbody tr th:only-of-type {\n",
       "        vertical-align: middle;\n",
       "    }\n",
       "\n",
       "    .dataframe tbody tr th {\n",
       "        vertical-align: top;\n",
       "    }\n",
       "\n",
       "    .dataframe thead th {\n",
       "        text-align: right;\n",
       "    }\n",
       "</style>\n",
       "<table border=\"1\" class=\"dataframe\">\n",
       "  <thead>\n",
       "    <tr style=\"text-align: right;\">\n",
       "      <th></th>\n",
       "      <th>날짜</th>\n",
       "      <th>종가</th>\n",
       "      <th>시가</th>\n",
       "      <th>고가</th>\n",
       "      <th>저가</th>\n",
       "      <th>거래량</th>\n",
       "      <th>변동 %</th>\n",
       "    </tr>\n",
       "  </thead>\n",
       "  <tbody>\n",
       "    <tr>\n",
       "      <th>2517</th>\n",
       "      <td>2009- 04- 06</td>\n",
       "      <td>12.82</td>\n",
       "      <td>12.82</td>\n",
       "      <td>12.88</td>\n",
       "      <td>12.62</td>\n",
       "      <td>11.08M</td>\n",
       "      <td>-1.16%</td>\n",
       "    </tr>\n",
       "    <tr>\n",
       "      <th>2516</th>\n",
       "      <td>2009- 04- 07</td>\n",
       "      <td>12.46</td>\n",
       "      <td>12.59</td>\n",
       "      <td>12.60</td>\n",
       "      <td>12.38</td>\n",
       "      <td>11.58M</td>\n",
       "      <td>-2.81%</td>\n",
       "    </tr>\n",
       "    <tr>\n",
       "      <th>2515</th>\n",
       "      <td>2009- 04- 08</td>\n",
       "      <td>12.56</td>\n",
       "      <td>12.49</td>\n",
       "      <td>12.65</td>\n",
       "      <td>12.36</td>\n",
       "      <td>13.10M</td>\n",
       "      <td>0.80%</td>\n",
       "    </tr>\n",
       "    <tr>\n",
       "      <th>2514</th>\n",
       "      <td>2009- 04- 09</td>\n",
       "      <td>13.32</td>\n",
       "      <td>12.81</td>\n",
       "      <td>13.38</td>\n",
       "      <td>12.65</td>\n",
       "      <td>18.04M</td>\n",
       "      <td>6.05%</td>\n",
       "    </tr>\n",
       "    <tr>\n",
       "      <th>2513</th>\n",
       "      <td>2009- 04- 13</td>\n",
       "      <td>13.28</td>\n",
       "      <td>13.18</td>\n",
       "      <td>13.37</td>\n",
       "      <td>12.90</td>\n",
       "      <td>13.20M</td>\n",
       "      <td>-0.30%</td>\n",
       "    </tr>\n",
       "    <tr>\n",
       "      <th>...</th>\n",
       "      <td>...</td>\n",
       "      <td>...</td>\n",
       "      <td>...</td>\n",
       "      <td>...</td>\n",
       "      <td>...</td>\n",
       "      <td>...</td>\n",
       "      <td>...</td>\n",
       "    </tr>\n",
       "    <tr>\n",
       "      <th>4</th>\n",
       "      <td>2019- 04- 01</td>\n",
       "      <td>85.23</td>\n",
       "      <td>85.04</td>\n",
       "      <td>85.32</td>\n",
       "      <td>84.70</td>\n",
       "      <td>6.74M</td>\n",
       "      <td>1.21%</td>\n",
       "    </tr>\n",
       "    <tr>\n",
       "      <th>3</th>\n",
       "      <td>2019- 04- 02</td>\n",
       "      <td>84.37</td>\n",
       "      <td>85.00</td>\n",
       "      <td>85.26</td>\n",
       "      <td>84.16</td>\n",
       "      <td>4.43M</td>\n",
       "      <td>-1.01%</td>\n",
       "    </tr>\n",
       "    <tr>\n",
       "      <th>2</th>\n",
       "      <td>2019- 04- 03</td>\n",
       "      <td>84.47</td>\n",
       "      <td>84.90</td>\n",
       "      <td>84.99</td>\n",
       "      <td>84.25</td>\n",
       "      <td>4.08M</td>\n",
       "      <td>0.12%</td>\n",
       "    </tr>\n",
       "    <tr>\n",
       "      <th>1</th>\n",
       "      <td>2019- 04- 04</td>\n",
       "      <td>85.28</td>\n",
       "      <td>84.49</td>\n",
       "      <td>85.38</td>\n",
       "      <td>84.36</td>\n",
       "      <td>3.66M</td>\n",
       "      <td>0.96%</td>\n",
       "    </tr>\n",
       "    <tr>\n",
       "      <th>0</th>\n",
       "      <td>2019- 04- 05</td>\n",
       "      <td>85.40</td>\n",
       "      <td>86.00</td>\n",
       "      <td>86.16</td>\n",
       "      <td>85.05</td>\n",
       "      <td>7.37M</td>\n",
       "      <td>0.14%</td>\n",
       "    </tr>\n",
       "  </tbody>\n",
       "</table>\n",
       "<p>2518 rows × 7 columns</p>\n",
       "</div>"
      ],
      "text/plain": [
       "                날짜     종가     시가     고가     저가     거래량    변동 %\n",
       "2517  2009- 04- 06  12.82  12.82  12.88  12.62  11.08M  -1.16%\n",
       "2516  2009- 04- 07  12.46  12.59  12.60  12.38  11.58M  -2.81%\n",
       "2515  2009- 04- 08  12.56  12.49  12.65  12.36  13.10M   0.80%\n",
       "2514  2009- 04- 09  13.32  12.81  13.38  12.65  18.04M   6.05%\n",
       "2513  2009- 04- 13  13.28  13.18  13.37  12.90  13.20M  -0.30%\n",
       "...            ...    ...    ...    ...    ...     ...     ...\n",
       "4     2019- 04- 01  85.23  85.04  85.32  84.70   6.74M   1.21%\n",
       "3     2019- 04- 02  84.37  85.00  85.26  84.16   4.43M  -1.01%\n",
       "2     2019- 04- 03  84.47  84.90  84.99  84.25   4.08M   0.12%\n",
       "1     2019- 04- 04  85.28  84.49  85.38  84.36   3.66M   0.96%\n",
       "0     2019- 04- 05  85.40  86.00  86.16  85.05   7.37M   0.14%\n",
       "\n",
       "[2518 rows x 7 columns]"
      ]
     },
     "execution_count": 216,
     "metadata": {},
     "output_type": "execute_result"
    }
   ],
   "source": [
    "nke_data=nke_data.sort_values(by=['날짜'])\n",
    "nke_data"
   ]
  },
  {
   "cell_type": "code",
   "execution_count": 381,
   "id": "63b79c39",
   "metadata": {},
   "outputs": [
    {
     "data": {
      "text/plain": [
       "2517    2009- 04- 06\n",
       "2516    2009- 04- 07\n",
       "2515    2009- 04- 08\n",
       "2514    2009- 04- 09\n",
       "2513    2009- 04- 13\n",
       "            ...     \n",
       "4       2019- 04- 01\n",
       "3       2019- 04- 02\n",
       "2       2019- 04- 03\n",
       "1       2019- 04- 04\n",
       "0       2019- 04- 05\n",
       "Name: 날짜, Length: 2518, dtype: object"
      ]
     },
     "execution_count": 381,
     "metadata": {},
     "output_type": "execute_result"
    }
   ],
   "source": [
    "nke_data['날짜']"
   ]
  },
  {
   "cell_type": "markdown",
   "id": "ae4140b1",
   "metadata": {},
   "source": [
    "## 2. 학습 예측 데이터 셋 나누기"
   ]
  },
  {
   "cell_type": "code",
   "execution_count": 217,
   "id": "1f76c4cb",
   "metadata": {},
   "outputs": [
    {
     "data": {
      "text/html": [
       "<div>\n",
       "<style scoped>\n",
       "    .dataframe tbody tr th:only-of-type {\n",
       "        vertical-align: middle;\n",
       "    }\n",
       "\n",
       "    .dataframe tbody tr th {\n",
       "        vertical-align: top;\n",
       "    }\n",
       "\n",
       "    .dataframe thead th {\n",
       "        text-align: right;\n",
       "    }\n",
       "</style>\n",
       "<table border=\"1\" class=\"dataframe\">\n",
       "  <thead>\n",
       "    <tr style=\"text-align: right;\">\n",
       "      <th></th>\n",
       "      <th>날짜</th>\n",
       "      <th>종가</th>\n",
       "      <th>시가</th>\n",
       "      <th>고가</th>\n",
       "      <th>저가</th>\n",
       "      <th>거래량</th>\n",
       "      <th>변동 %</th>\n",
       "    </tr>\n",
       "  </thead>\n",
       "  <tbody>\n",
       "    <tr>\n",
       "      <th>2517</th>\n",
       "      <td>2009- 04- 06</td>\n",
       "      <td>12.82</td>\n",
       "      <td>12.82</td>\n",
       "      <td>12.88</td>\n",
       "      <td>12.62</td>\n",
       "      <td>11.08M</td>\n",
       "      <td>-1.16%</td>\n",
       "    </tr>\n",
       "    <tr>\n",
       "      <th>2516</th>\n",
       "      <td>2009- 04- 07</td>\n",
       "      <td>12.46</td>\n",
       "      <td>12.59</td>\n",
       "      <td>12.60</td>\n",
       "      <td>12.38</td>\n",
       "      <td>11.58M</td>\n",
       "      <td>-2.81%</td>\n",
       "    </tr>\n",
       "    <tr>\n",
       "      <th>2515</th>\n",
       "      <td>2009- 04- 08</td>\n",
       "      <td>12.56</td>\n",
       "      <td>12.49</td>\n",
       "      <td>12.65</td>\n",
       "      <td>12.36</td>\n",
       "      <td>13.10M</td>\n",
       "      <td>0.80%</td>\n",
       "    </tr>\n",
       "    <tr>\n",
       "      <th>2514</th>\n",
       "      <td>2009- 04- 09</td>\n",
       "      <td>13.32</td>\n",
       "      <td>12.81</td>\n",
       "      <td>13.38</td>\n",
       "      <td>12.65</td>\n",
       "      <td>18.04M</td>\n",
       "      <td>6.05%</td>\n",
       "    </tr>\n",
       "    <tr>\n",
       "      <th>2513</th>\n",
       "      <td>2009- 04- 13</td>\n",
       "      <td>13.28</td>\n",
       "      <td>13.18</td>\n",
       "      <td>13.37</td>\n",
       "      <td>12.90</td>\n",
       "      <td>13.20M</td>\n",
       "      <td>-0.30%</td>\n",
       "    </tr>\n",
       "    <tr>\n",
       "      <th>...</th>\n",
       "      <td>...</td>\n",
       "      <td>...</td>\n",
       "      <td>...</td>\n",
       "      <td>...</td>\n",
       "      <td>...</td>\n",
       "      <td>...</td>\n",
       "      <td>...</td>\n",
       "    </tr>\n",
       "    <tr>\n",
       "      <th>509</th>\n",
       "      <td>2017- 03- 28</td>\n",
       "      <td>56.62</td>\n",
       "      <td>55.99</td>\n",
       "      <td>56.78</td>\n",
       "      <td>55.79</td>\n",
       "      <td>7.82M</td>\n",
       "      <td>1.23%</td>\n",
       "    </tr>\n",
       "    <tr>\n",
       "      <th>508</th>\n",
       "      <td>2017- 03- 29</td>\n",
       "      <td>56.68</td>\n",
       "      <td>56.41</td>\n",
       "      <td>57.10</td>\n",
       "      <td>56.35</td>\n",
       "      <td>7.46M</td>\n",
       "      <td>0.11%</td>\n",
       "    </tr>\n",
       "    <tr>\n",
       "      <th>507</th>\n",
       "      <td>2017- 03- 30</td>\n",
       "      <td>56.04</td>\n",
       "      <td>56.48</td>\n",
       "      <td>56.60</td>\n",
       "      <td>55.81</td>\n",
       "      <td>7.21M</td>\n",
       "      <td>-1.13%</td>\n",
       "    </tr>\n",
       "    <tr>\n",
       "      <th>506</th>\n",
       "      <td>2017- 03- 31</td>\n",
       "      <td>55.73</td>\n",
       "      <td>56.00</td>\n",
       "      <td>56.03</td>\n",
       "      <td>55.65</td>\n",
       "      <td>5.91M</td>\n",
       "      <td>-0.55%</td>\n",
       "    </tr>\n",
       "    <tr>\n",
       "      <th>505</th>\n",
       "      <td>2017- 04- 03</td>\n",
       "      <td>55.56</td>\n",
       "      <td>55.74</td>\n",
       "      <td>55.80</td>\n",
       "      <td>55.15</td>\n",
       "      <td>7.09M</td>\n",
       "      <td>-0.31%</td>\n",
       "    </tr>\n",
       "  </tbody>\n",
       "</table>\n",
       "<p>2013 rows × 7 columns</p>\n",
       "</div>"
      ],
      "text/plain": [
       "                날짜     종가     시가     고가     저가     거래량    변동 %\n",
       "2517  2009- 04- 06  12.82  12.82  12.88  12.62  11.08M  -1.16%\n",
       "2516  2009- 04- 07  12.46  12.59  12.60  12.38  11.58M  -2.81%\n",
       "2515  2009- 04- 08  12.56  12.49  12.65  12.36  13.10M   0.80%\n",
       "2514  2009- 04- 09  13.32  12.81  13.38  12.65  18.04M   6.05%\n",
       "2513  2009- 04- 13  13.28  13.18  13.37  12.90  13.20M  -0.30%\n",
       "...            ...    ...    ...    ...    ...     ...     ...\n",
       "509   2017- 03- 28  56.62  55.99  56.78  55.79   7.82M   1.23%\n",
       "508   2017- 03- 29  56.68  56.41  57.10  56.35   7.46M   0.11%\n",
       "507   2017- 03- 30  56.04  56.48  56.60  55.81   7.21M  -1.13%\n",
       "506   2017- 03- 31  55.73  56.00  56.03  55.65   5.91M  -0.55%\n",
       "505   2017- 04- 03  55.56  55.74  55.80  55.15   7.09M  -0.31%\n",
       "\n",
       "[2013 rows x 7 columns]"
      ]
     },
     "execution_count": 217,
     "metadata": {},
     "output_type": "execute_result"
    }
   ],
   "source": [
    "\n",
    "split_count = int(nke_data.shape[0]*0.8)\n",
    "split_count\n",
    "# train, test로 슬라이싱을 통해 데이터로 나눈다\n",
    "# df로 전체를 부른다\n",
    "train = nke_data[:split_count-1].copy()\n",
    "test = nke_data[split_count-1:].copy()\n",
    "train\n",
    "\n",
    "# split_count 반대로 불러와야 train : 2009-04-06 ~ 2017-04-03"
   ]
  },
  {
   "cell_type": "code",
   "execution_count": 395,
   "id": "57ca31dd",
   "metadata": {},
   "outputs": [
    {
     "data": {
      "text/plain": [
       "504    2017- 04- 04\n",
       "503    2017- 04- 05\n",
       "502    2017- 04- 06\n",
       "501    2017- 04- 07\n",
       "500    2017- 04- 10\n",
       "           ...     \n",
       "4      2019- 04- 01\n",
       "3      2019- 04- 02\n",
       "2      2019- 04- 03\n",
       "1      2019- 04- 04\n",
       "0      2019- 04- 05\n",
       "Name: 날짜, Length: 505, dtype: object"
      ]
     },
     "execution_count": 395,
     "metadata": {},
     "output_type": "execute_result"
    }
   ],
   "source": [
    "test['날짜']"
   ]
  },
  {
   "cell_type": "markdown",
   "id": "8ec81568",
   "metadata": {},
   "source": [
    "## 2.1 결측치는 없을꺼고"
   ]
  },
  {
   "cell_type": "code",
   "execution_count": 218,
   "id": "4694d5c6",
   "metadata": {
    "scrolled": true
   },
   "outputs": [
    {
     "data": {
      "text/plain": [
       "날짜      0\n",
       "종가      0\n",
       "시가      0\n",
       "고가      0\n",
       "저가      0\n",
       "거래량     0\n",
       "변동 %    0\n",
       "dtype: int64"
      ]
     },
     "execution_count": 218,
     "metadata": {},
     "output_type": "execute_result"
    }
   ],
   "source": [
    "nke_data.isnull().sum()"
   ]
  },
  {
   "cell_type": "code",
   "execution_count": 219,
   "id": "1012fabf",
   "metadata": {},
   "outputs": [
    {
     "data": {
      "text/plain": [
       "<bound method NDFrame.describe of                 날짜     종가     시가     고가     저가     거래량    변동 %\n",
       "2517  2009- 04- 06  12.82  12.82  12.88  12.62  11.08M  -1.16%\n",
       "2516  2009- 04- 07  12.46  12.59  12.60  12.38  11.58M  -2.81%\n",
       "2515  2009- 04- 08  12.56  12.49  12.65  12.36  13.10M   0.80%\n",
       "2514  2009- 04- 09  13.32  12.81  13.38  12.65  18.04M   6.05%\n",
       "2513  2009- 04- 13  13.28  13.18  13.37  12.90  13.20M  -0.30%\n",
       "...            ...    ...    ...    ...    ...     ...     ...\n",
       "4     2019- 04- 01  85.23  85.04  85.32  84.70   6.74M   1.21%\n",
       "3     2019- 04- 02  84.37  85.00  85.26  84.16   4.43M  -1.01%\n",
       "2     2019- 04- 03  84.47  84.90  84.99  84.25   4.08M   0.12%\n",
       "1     2019- 04- 04  85.28  84.49  85.38  84.36   3.66M   0.96%\n",
       "0     2019- 04- 05  85.40  86.00  86.16  85.05   7.37M   0.14%\n",
       "\n",
       "[2518 rows x 7 columns]>"
      ]
     },
     "execution_count": 219,
     "metadata": {},
     "output_type": "execute_result"
    }
   ],
   "source": [
    "nke_data.describe"
   ]
  },
  {
   "cell_type": "markdown",
   "id": "331b23c2",
   "metadata": {},
   "source": [
    "## 3. 학습 예측에 사용할 column"
   ]
  },
  {
   "cell_type": "code",
   "execution_count": 220,
   "id": "a52d8a2b",
   "metadata": {},
   "outputs": [
    {
     "data": {
      "text/plain": [
       "Index(['날짜', '종가', '시가', '고가', '저가', '거래량', '변동 %'], dtype='object')"
      ]
     },
     "execution_count": 220,
     "metadata": {},
     "output_type": "execute_result"
    }
   ],
   "source": [
    "nke_data.columns"
   ]
  },
  {
   "cell_type": "code",
   "execution_count": 333,
   "id": "5e6aed18",
   "metadata": {},
   "outputs": [
    {
     "data": {
      "text/plain": [
       "['시가', '고가', '저가']"
      ]
     },
     "execution_count": 333,
     "metadata": {},
     "output_type": "execute_result"
    }
   ],
   "source": [
    "# feature_names 라는 변수에 학습과 예측에 사용할 컬럼명 가져옴\n",
    "feature_names=train.columns.tolist() \n",
    "feature_names.remove('종가')\n",
    "feature_names.remove('날짜')\n",
    "feature_names.remove('변동 %')\n",
    "feature_names.remove('거래량')\n",
    "\n",
    "\n",
    "feature_names\n",
    "# 맨 마지막것만 빼고 가져오겠다"
   ]
  },
  {
   "cell_type": "code",
   "execution_count": 334,
   "id": "d955379e",
   "metadata": {},
   "outputs": [],
   "source": [
    "## 4. 정답값이자 예측값"
   ]
  },
  {
   "cell_type": "code",
   "execution_count": 335,
   "id": "ce407fe6",
   "metadata": {},
   "outputs": [
    {
     "data": {
      "text/plain": [
       "'종가'"
      ]
     },
     "execution_count": 335,
     "metadata": {},
     "output_type": "execute_result"
    }
   ],
   "source": [
    "# nke_close 이라는 변수에 예측할 컬럼의 이름을 담는다\n",
    "\n",
    "nke_close = '종가'\n",
    "nke_close"
   ]
  },
  {
   "cell_type": "code",
   "execution_count": 350,
   "id": "65b79703",
   "metadata": {},
   "outputs": [
    {
     "name": "stdout",
     "output_type": "stream",
     "text": [
      "(2013, 3)\n"
     ]
    },
    {
     "data": {
      "text/plain": [
       "(2013, 3)"
      ]
     },
     "execution_count": 350,
     "metadata": {},
     "output_type": "execute_result"
    }
   ],
   "source": [
    "# 학습 세트 만들기\n",
    "# 예) 시험의 기출문제\n",
    "X_train = train[feature_names]\n",
    "\n",
    "print(X_train.shape)\n",
    "\n",
    "\n",
    "X_train.tail()\n",
    "X_train.shape"
   ]
  },
  {
   "cell_type": "code",
   "execution_count": 351,
   "id": "cf54a198",
   "metadata": {},
   "outputs": [
    {
     "name": "stdout",
     "output_type": "stream",
     "text": [
      "(2013,)\n"
     ]
    },
    {
     "data": {
      "text/plain": [
       "509    56.62\n",
       "508    56.68\n",
       "507    56.04\n",
       "506    55.73\n",
       "505    55.56\n",
       "Name: 종가, dtype: float64"
      ]
     },
     "execution_count": 351,
     "metadata": {},
     "output_type": "execute_result"
    }
   ],
   "source": [
    "\n",
    "\n",
    "# 정답 값을 만들어준다\n",
    "# 예) 기출문제의 정답\n",
    "y_train = train[nke_close]\n",
    "print(y_train.shape)\n",
    "y_train.tail()"
   ]
  },
  {
   "cell_type": "code",
   "execution_count": 352,
   "id": "252b685d",
   "metadata": {},
   "outputs": [
    {
     "name": "stdout",
     "output_type": "stream",
     "text": [
      "(505, 3)\n"
     ]
    },
    {
     "data": {
      "text/html": [
       "<div>\n",
       "<style scoped>\n",
       "    .dataframe tbody tr th:only-of-type {\n",
       "        vertical-align: middle;\n",
       "    }\n",
       "\n",
       "    .dataframe tbody tr th {\n",
       "        vertical-align: top;\n",
       "    }\n",
       "\n",
       "    .dataframe thead th {\n",
       "        text-align: right;\n",
       "    }\n",
       "</style>\n",
       "<table border=\"1\" class=\"dataframe\">\n",
       "  <thead>\n",
       "    <tr style=\"text-align: right;\">\n",
       "      <th></th>\n",
       "      <th>시가</th>\n",
       "      <th>고가</th>\n",
       "      <th>저가</th>\n",
       "    </tr>\n",
       "  </thead>\n",
       "  <tbody>\n",
       "    <tr>\n",
       "      <th>504</th>\n",
       "      <td>55.15</td>\n",
       "      <td>55.30</td>\n",
       "      <td>54.83</td>\n",
       "    </tr>\n",
       "    <tr>\n",
       "      <th>503</th>\n",
       "      <td>54.97</td>\n",
       "      <td>55.80</td>\n",
       "      <td>54.50</td>\n",
       "    </tr>\n",
       "    <tr>\n",
       "      <th>502</th>\n",
       "      <td>55.07</td>\n",
       "      <td>55.94</td>\n",
       "      <td>54.94</td>\n",
       "    </tr>\n",
       "    <tr>\n",
       "      <th>501</th>\n",
       "      <td>55.10</td>\n",
       "      <td>55.24</td>\n",
       "      <td>54.77</td>\n",
       "    </tr>\n",
       "    <tr>\n",
       "      <th>500</th>\n",
       "      <td>55.00</td>\n",
       "      <td>55.33</td>\n",
       "      <td>54.72</td>\n",
       "    </tr>\n",
       "  </tbody>\n",
       "</table>\n",
       "</div>"
      ],
      "text/plain": [
       "        시가     고가     저가\n",
       "504  55.15  55.30  54.83\n",
       "503  54.97  55.80  54.50\n",
       "502  55.07  55.94  54.94\n",
       "501  55.10  55.24  54.77\n",
       "500  55.00  55.33  54.72"
      ]
     },
     "execution_count": 352,
     "metadata": {},
     "output_type": "execute_result"
    }
   ],
   "source": [
    "X_test = test[feature_names]\n",
    "print(X_test.shape)\n",
    "X_test.head()"
   ]
  },
  {
   "cell_type": "code",
   "execution_count": 353,
   "id": "bd194fc1",
   "metadata": {},
   "outputs": [
    {
     "name": "stdout",
     "output_type": "stream",
     "text": [
      "(505,)\n"
     ]
    },
    {
     "data": {
      "text/plain": [
       "4    85.23\n",
       "3    84.37\n",
       "2    84.47\n",
       "1    85.28\n",
       "0    85.40\n",
       "Name: 종가, dtype: float64"
      ]
     },
     "execution_count": 353,
     "metadata": {},
     "output_type": "execute_result"
    }
   ],
   "source": [
    "y_test=test[nke_close]\n",
    "\n",
    "print(y_test.shape)\n",
    "y_test.tail()"
   ]
  },
  {
   "cell_type": "code",
   "execution_count": 434,
   "id": "0d879d63",
   "metadata": {},
   "outputs": [
    {
     "data": {
      "text/plain": [
       "<bound method NDFrame.describe of 504    55.04\n",
       "503    54.98\n",
       "502    55.14\n",
       "501    55.11\n",
       "500    54.90\n",
       "       ...  \n",
       "4      85.23\n",
       "3      84.37\n",
       "2      84.47\n",
       "1      85.28\n",
       "0      85.40\n",
       "Name: 종가, Length: 505, dtype: float64>"
      ]
     },
     "execution_count": 434,
     "metadata": {},
     "output_type": "execute_result"
    }
   ],
   "source": [
    "y_test.describe"
   ]
  },
  {
   "cell_type": "code",
   "execution_count": null,
   "id": "8b9343ff",
   "metadata": {},
   "outputs": [],
   "source": []
  },
  {
   "cell_type": "code",
   "execution_count": null,
   "id": "96ecd32f",
   "metadata": {},
   "outputs": [],
   "source": []
  },
  {
   "cell_type": "code",
   "execution_count": 354,
   "id": "411386c9",
   "metadata": {},
   "outputs": [],
   "source": [
    "from pandas.plotting import scatter_matrix\n",
    "import seaborn as sns\n",
    "\n",
    "# Function and modules for data analysis\n",
    "from sklearn.preprocessing import StandardScaler\n",
    "from sklearn.model_selection import train_test_split\n",
    "from sklearn.model_selection import KFold\n",
    "from sklearn.model_selection import cross_val_score\n",
    "from sklearn.model_selection import GridSearchCV\n",
    "\n",
    "# Function and modules for the supervised regression models\n",
    "from sklearn.linear_model import LinearRegression\n",
    "from sklearn.linear_model import Lasso\n",
    "from sklearn.linear_model import ElasticNet\n",
    "from sklearn.tree import DecisionTreeRegressor\n",
    "from sklearn.neighbors import KNeighborsRegressor\n",
    "from sklearn.svm import SVR\n",
    "from sklearn.ensemble import RandomForestRegressor\n",
    "from sklearn.ensemble import GradientBoostingRegressor\n",
    "from sklearn.ensemble import ExtraTreesRegressor\n",
    "from sklearn.ensemble import AdaBoostRegressor\n",
    "from sklearn.neural_network import MLPRegressor\n",
    "\n",
    "import statsmodels.api as sm"
   ]
  },
  {
   "cell_type": "code",
   "execution_count": 355,
   "id": "bd800858",
   "metadata": {},
   "outputs": [
    {
     "name": "stderr",
     "output_type": "stream",
     "text": [
      "/var/folders/sp/mym89g410d75pchy52vhq7y80000gn/T/ipykernel_1777/1375720025.py:1: SettingWithCopyWarning: \n",
      "A value is trying to be set on a copy of a slice from a DataFrame\n",
      "\n",
      "See the caveats in the documentation: https://pandas.pydata.org/pandas-docs/stable/user_guide/indexing.html#returning-a-view-versus-a-copy\n",
      "  X_train.fillna(X_train.mean(), inplace=True)\n",
      "/var/folders/sp/mym89g410d75pchy52vhq7y80000gn/T/ipykernel_1777/1375720025.py:2: SettingWithCopyWarning: \n",
      "A value is trying to be set on a copy of a slice from a DataFrame\n",
      "\n",
      "See the caveats in the documentation: https://pandas.pydata.org/pandas-docs/stable/user_guide/indexing.html#returning-a-view-versus-a-copy\n",
      "  X_test.fillna(X_test.mean(), inplace=True)\n"
     ]
    }
   ],
   "source": [
    "X_train.fillna(X_train.mean(), inplace=True)\n",
    "X_test.fillna(X_test.mean(), inplace=True)"
   ]
  },
  {
   "cell_type": "markdown",
   "id": "3e8ef777",
   "metadata": {},
   "source": [
    "## 6. 랜덤포레스트 알고리즘 가져와볼게"
   ]
  },
  {
   "cell_type": "code",
   "execution_count": 356,
   "id": "7452677a",
   "metadata": {},
   "outputs": [
    {
     "data": {
      "text/html": [
       "<style>#sk-container-id-5 {color: black;}#sk-container-id-5 pre{padding: 0;}#sk-container-id-5 div.sk-toggleable {background-color: white;}#sk-container-id-5 label.sk-toggleable__label {cursor: pointer;display: block;width: 100%;margin-bottom: 0;padding: 0.3em;box-sizing: border-box;text-align: center;}#sk-container-id-5 label.sk-toggleable__label-arrow:before {content: \"▸\";float: left;margin-right: 0.25em;color: #696969;}#sk-container-id-5 label.sk-toggleable__label-arrow:hover:before {color: black;}#sk-container-id-5 div.sk-estimator:hover label.sk-toggleable__label-arrow:before {color: black;}#sk-container-id-5 div.sk-toggleable__content {max-height: 0;max-width: 0;overflow: hidden;text-align: left;background-color: #f0f8ff;}#sk-container-id-5 div.sk-toggleable__content pre {margin: 0.2em;color: black;border-radius: 0.25em;background-color: #f0f8ff;}#sk-container-id-5 input.sk-toggleable__control:checked~div.sk-toggleable__content {max-height: 200px;max-width: 100%;overflow: auto;}#sk-container-id-5 input.sk-toggleable__control:checked~label.sk-toggleable__label-arrow:before {content: \"▾\";}#sk-container-id-5 div.sk-estimator input.sk-toggleable__control:checked~label.sk-toggleable__label {background-color: #d4ebff;}#sk-container-id-5 div.sk-label input.sk-toggleable__control:checked~label.sk-toggleable__label {background-color: #d4ebff;}#sk-container-id-5 input.sk-hidden--visually {border: 0;clip: rect(1px 1px 1px 1px);clip: rect(1px, 1px, 1px, 1px);height: 1px;margin: -1px;overflow: hidden;padding: 0;position: absolute;width: 1px;}#sk-container-id-5 div.sk-estimator {font-family: monospace;background-color: #f0f8ff;border: 1px dotted black;border-radius: 0.25em;box-sizing: border-box;margin-bottom: 0.5em;}#sk-container-id-5 div.sk-estimator:hover {background-color: #d4ebff;}#sk-container-id-5 div.sk-parallel-item::after {content: \"\";width: 100%;border-bottom: 1px solid gray;flex-grow: 1;}#sk-container-id-5 div.sk-label:hover label.sk-toggleable__label {background-color: #d4ebff;}#sk-container-id-5 div.sk-serial::before {content: \"\";position: absolute;border-left: 1px solid gray;box-sizing: border-box;top: 0;bottom: 0;left: 50%;z-index: 0;}#sk-container-id-5 div.sk-serial {display: flex;flex-direction: column;align-items: center;background-color: white;padding-right: 0.2em;padding-left: 0.2em;position: relative;}#sk-container-id-5 div.sk-item {position: relative;z-index: 1;}#sk-container-id-5 div.sk-parallel {display: flex;align-items: stretch;justify-content: center;background-color: white;position: relative;}#sk-container-id-5 div.sk-item::before, #sk-container-id-5 div.sk-parallel-item::before {content: \"\";position: absolute;border-left: 1px solid gray;box-sizing: border-box;top: 0;bottom: 0;left: 50%;z-index: -1;}#sk-container-id-5 div.sk-parallel-item {display: flex;flex-direction: column;z-index: 1;position: relative;background-color: white;}#sk-container-id-5 div.sk-parallel-item:first-child::after {align-self: flex-end;width: 50%;}#sk-container-id-5 div.sk-parallel-item:last-child::after {align-self: flex-start;width: 50%;}#sk-container-id-5 div.sk-parallel-item:only-child::after {width: 0;}#sk-container-id-5 div.sk-dashed-wrapped {border: 1px dashed gray;margin: 0 0.4em 0.5em 0.4em;box-sizing: border-box;padding-bottom: 0.4em;background-color: white;}#sk-container-id-5 div.sk-label label {font-family: monospace;font-weight: bold;display: inline-block;line-height: 1.2em;}#sk-container-id-5 div.sk-label-container {text-align: center;}#sk-container-id-5 div.sk-container {/* jupyter's `normalize.less` sets `[hidden] { display: none; }` but bootstrap.min.css set `[hidden] { display: none !important; }` so we also need the `!important` here to be able to override the default hidden behavior on the sphinx rendered scikit-learn.org. See: https://github.com/scikit-learn/scikit-learn/issues/21755 */display: inline-block !important;position: relative;}#sk-container-id-5 div.sk-text-repr-fallback {display: none;}</style><div id=\"sk-container-id-5\" class=\"sk-top-container\"><div class=\"sk-text-repr-fallback\"><pre>RandomForestRegressor(n_estimators=10, random_state=10)</pre><b>In a Jupyter environment, please rerun this cell to show the HTML representation or trust the notebook. <br />On GitHub, the HTML representation is unable to render, please try loading this page with nbviewer.org.</b></div><div class=\"sk-container\" hidden><div class=\"sk-item\"><div class=\"sk-estimator sk-toggleable\"><input class=\"sk-toggleable__control sk-hidden--visually\" id=\"sk-estimator-id-5\" type=\"checkbox\" checked><label for=\"sk-estimator-id-5\" class=\"sk-toggleable__label sk-toggleable__label-arrow\">RandomForestRegressor</label><div class=\"sk-toggleable__content\"><pre>RandomForestRegressor(n_estimators=10, random_state=10)</pre></div></div></div></div></div>"
      ],
      "text/plain": [
       "RandomForestRegressor(n_estimators=10, random_state=10)"
      ]
     },
     "execution_count": 356,
     "metadata": {},
     "output_type": "execute_result"
    }
   ],
   "source": [
    "model = RandomForestRegressor(n_estimators=10, random_state=10)\n",
    "model\n"
   ]
  },
  {
   "cell_type": "code",
   "execution_count": 357,
   "id": "11a48737",
   "metadata": {},
   "outputs": [
    {
     "data": {
      "text/html": [
       "<style>#sk-container-id-6 {color: black;}#sk-container-id-6 pre{padding: 0;}#sk-container-id-6 div.sk-toggleable {background-color: white;}#sk-container-id-6 label.sk-toggleable__label {cursor: pointer;display: block;width: 100%;margin-bottom: 0;padding: 0.3em;box-sizing: border-box;text-align: center;}#sk-container-id-6 label.sk-toggleable__label-arrow:before {content: \"▸\";float: left;margin-right: 0.25em;color: #696969;}#sk-container-id-6 label.sk-toggleable__label-arrow:hover:before {color: black;}#sk-container-id-6 div.sk-estimator:hover label.sk-toggleable__label-arrow:before {color: black;}#sk-container-id-6 div.sk-toggleable__content {max-height: 0;max-width: 0;overflow: hidden;text-align: left;background-color: #f0f8ff;}#sk-container-id-6 div.sk-toggleable__content pre {margin: 0.2em;color: black;border-radius: 0.25em;background-color: #f0f8ff;}#sk-container-id-6 input.sk-toggleable__control:checked~div.sk-toggleable__content {max-height: 200px;max-width: 100%;overflow: auto;}#sk-container-id-6 input.sk-toggleable__control:checked~label.sk-toggleable__label-arrow:before {content: \"▾\";}#sk-container-id-6 div.sk-estimator input.sk-toggleable__control:checked~label.sk-toggleable__label {background-color: #d4ebff;}#sk-container-id-6 div.sk-label input.sk-toggleable__control:checked~label.sk-toggleable__label {background-color: #d4ebff;}#sk-container-id-6 input.sk-hidden--visually {border: 0;clip: rect(1px 1px 1px 1px);clip: rect(1px, 1px, 1px, 1px);height: 1px;margin: -1px;overflow: hidden;padding: 0;position: absolute;width: 1px;}#sk-container-id-6 div.sk-estimator {font-family: monospace;background-color: #f0f8ff;border: 1px dotted black;border-radius: 0.25em;box-sizing: border-box;margin-bottom: 0.5em;}#sk-container-id-6 div.sk-estimator:hover {background-color: #d4ebff;}#sk-container-id-6 div.sk-parallel-item::after {content: \"\";width: 100%;border-bottom: 1px solid gray;flex-grow: 1;}#sk-container-id-6 div.sk-label:hover label.sk-toggleable__label {background-color: #d4ebff;}#sk-container-id-6 div.sk-serial::before {content: \"\";position: absolute;border-left: 1px solid gray;box-sizing: border-box;top: 0;bottom: 0;left: 50%;z-index: 0;}#sk-container-id-6 div.sk-serial {display: flex;flex-direction: column;align-items: center;background-color: white;padding-right: 0.2em;padding-left: 0.2em;position: relative;}#sk-container-id-6 div.sk-item {position: relative;z-index: 1;}#sk-container-id-6 div.sk-parallel {display: flex;align-items: stretch;justify-content: center;background-color: white;position: relative;}#sk-container-id-6 div.sk-item::before, #sk-container-id-6 div.sk-parallel-item::before {content: \"\";position: absolute;border-left: 1px solid gray;box-sizing: border-box;top: 0;bottom: 0;left: 50%;z-index: -1;}#sk-container-id-6 div.sk-parallel-item {display: flex;flex-direction: column;z-index: 1;position: relative;background-color: white;}#sk-container-id-6 div.sk-parallel-item:first-child::after {align-self: flex-end;width: 50%;}#sk-container-id-6 div.sk-parallel-item:last-child::after {align-self: flex-start;width: 50%;}#sk-container-id-6 div.sk-parallel-item:only-child::after {width: 0;}#sk-container-id-6 div.sk-dashed-wrapped {border: 1px dashed gray;margin: 0 0.4em 0.5em 0.4em;box-sizing: border-box;padding-bottom: 0.4em;background-color: white;}#sk-container-id-6 div.sk-label label {font-family: monospace;font-weight: bold;display: inline-block;line-height: 1.2em;}#sk-container-id-6 div.sk-label-container {text-align: center;}#sk-container-id-6 div.sk-container {/* jupyter's `normalize.less` sets `[hidden] { display: none; }` but bootstrap.min.css set `[hidden] { display: none !important; }` so we also need the `!important` here to be able to override the default hidden behavior on the sphinx rendered scikit-learn.org. See: https://github.com/scikit-learn/scikit-learn/issues/21755 */display: inline-block !important;position: relative;}#sk-container-id-6 div.sk-text-repr-fallback {display: none;}</style><div id=\"sk-container-id-6\" class=\"sk-top-container\"><div class=\"sk-text-repr-fallback\"><pre>RandomForestRegressor(n_estimators=10, random_state=10)</pre><b>In a Jupyter environment, please rerun this cell to show the HTML representation or trust the notebook. <br />On GitHub, the HTML representation is unable to render, please try loading this page with nbviewer.org.</b></div><div class=\"sk-container\" hidden><div class=\"sk-item\"><div class=\"sk-estimator sk-toggleable\"><input class=\"sk-toggleable__control sk-hidden--visually\" id=\"sk-estimator-id-6\" type=\"checkbox\" checked><label for=\"sk-estimator-id-6\" class=\"sk-toggleable__label sk-toggleable__label-arrow\">RandomForestRegressor</label><div class=\"sk-toggleable__content\"><pre>RandomForestRegressor(n_estimators=10, random_state=10)</pre></div></div></div></div></div>"
      ],
      "text/plain": [
       "RandomForestRegressor(n_estimators=10, random_state=10)"
      ]
     },
     "execution_count": 357,
     "metadata": {},
     "output_type": "execute_result"
    }
   ],
   "source": [
    "model.fit(X_train, y_train)"
   ]
  },
  {
   "cell_type": "code",
   "execution_count": 358,
   "id": "2c661a2f",
   "metadata": {},
   "outputs": [],
   "source": [
    "predictions = model.predict(X_test)"
   ]
  },
  {
   "cell_type": "code",
   "execution_count": 359,
   "id": "b70d26ff",
   "metadata": {},
   "outputs": [],
   "source": [
    "from sklearn.ensemble import RandomForestRegressor\n",
    "from sklearn.metrics import mean_squared_error\n",
    "import matplotlib.pyplot as plt"
   ]
  },
  {
   "cell_type": "code",
   "execution_count": 360,
   "id": "2f3c0994",
   "metadata": {},
   "outputs": [
    {
     "name": "stdout",
     "output_type": "stream",
     "text": [
      "Mean Squared Error: 69.18775567722768\n"
     ]
    }
   ],
   "source": [
    "mse = mean_squared_error(y_test, predictions)\n",
    "print(f\"Mean Squared Error: {mse}\")"
   ]
  },
  {
   "cell_type": "code",
   "execution_count": 426,
   "id": "8a367819",
   "metadata": {},
   "outputs": [],
   "source": [
    "y_predict = model.predict(X_test)\n"
   ]
  },
  {
   "cell_type": "code",
   "execution_count": 436,
   "id": "4226e485",
   "metadata": {},
   "outputs": [
    {
     "data": {
      "text/plain": [
       "array([54.981, 55.536, 55.689, 54.911, 55.056, 54.636, 55.218, 55.128,\n",
       "       55.889, 55.999, 55.852, 56.437, 55.988, 55.841, 55.925, 55.474,\n",
       "       55.124, 55.239, 55.054, 54.697, 54.793, 54.319, 53.918, 53.983,\n",
       "       54.374, 54.636, 53.782, 53.928, 54.006, 52.736, 52.567, 51.632,\n",
       "       51.826, 51.603, 52.155, 51.874, 52.32 , 52.447, 52.913, 53.11 ,\n",
       "       52.611, 52.772, 53.143, 52.899, 53.259, 53.858, 53.244, 53.913,\n",
       "       54.267, 54.219, 53.151, 51.175, 51.767, 51.488, 52.389, 52.232,\n",
       "       52.852, 52.741, 52.792, 53.432, 53.434, 58.23 , 58.684, 57.675,\n",
       "       57.497, 57.834, 58.344, 58.308, 58.416, 58.334, 57.754, 57.873,\n",
       "       57.716, 57.729, 59.416, 59.476, 59.302, 59.496, 58.844, 58.214,\n",
       "       58.584, 58.748, 59.514, 59.575, 60.229, 60.175, 59.976, 59.528,\n",
       "       59.565, 59.576, 58.737, 59.617, 58.394, 58.412, 57.885, 54.887,\n",
       "       53.686, 54.012, 53.406, 53.401, 53.87 , 53.975, 52.368, 52.608,\n",
       "       52.9  , 53.235, 53.244, 53.068, 52.392, 52.048, 52.736, 53.74 ,\n",
       "       53.336, 53.384, 53.416, 53.819, 53.125, 53.276, 53.18 , 53.345,\n",
       "       53.434, 53.665, 52.431, 52.728, 52.31 , 51.841, 51.687, 51.703,\n",
       "       51.903, 51.966, 51.833, 51.622, 51.09 , 50.645, 50.632, 50.975,\n",
       "       51.689, 51.905, 52.503, 53.415, 53.662, 53.252, 54.929, 56.608,\n",
       "       55.863, 55.587, 54.931, 55.071, 54.915, 55.51 , 55.824, 55.554,\n",
       "       55.497, 55.918, 56.035, 55.864, 55.827, 55.781, 56.874, 59.048,\n",
       "       58.497, 59.482, 59.476, 59.481, 59.608, 59.004, 60.277, 61.138,\n",
       "       59.731, 60.337, 59.98 , 60.023, 60.391, 61.131, 61.863, 62.115,\n",
       "       63.104, 64.304, 64.418, 65.166, 64.424, 64.096, 64.163, 61.316,\n",
       "       63.308, 63.126, 62.946, 62.807, 62.959, 63.126, 62.943, 64.207,\n",
       "       64.313, 64.231, 64.139, 64.196, 64.833, 64.013, 63.314, 64.126,\n",
       "       66.099, 66.276, 66.919, 66.983, 66.983, 66.983, 66.983, 66.983,\n",
       "       66.983, 66.983, 66.983, 65.252, 63.325, 66.092, 63.19 , 63.487,\n",
       "       66.377, 66.032, 66.412, 66.983, 66.983, 66.983, 66.983, 66.983,\n",
       "       66.983, 66.983, 66.983, 66.983, 66.438, 64.771, 65.159, 65.182,\n",
       "       64.305, 65.212, 66.106, 66.785, 66.611, 66.271, 66.31 , 66.261,\n",
       "       65.93 , 66.438, 66.714, 64.723, 65.252, 65.632, 66.524, 66.235,\n",
       "       66.148, 63.433, 65.301, 66.605, 66.983, 66.983, 66.983, 66.972,\n",
       "       66.919, 66.983, 66.983, 66.983, 66.983, 66.611, 65.879, 65.91 ,\n",
       "       66.56 , 66.983, 66.476, 66.983, 66.983, 66.983, 66.983, 66.983,\n",
       "       66.983, 66.983, 66.983, 66.983, 66.983, 66.983, 66.983, 66.983,\n",
       "       66.983, 66.983, 66.983, 66.983, 66.983, 66.983, 66.983, 66.983,\n",
       "       66.983, 66.983, 66.983, 66.983, 66.983, 66.983, 66.983, 66.983,\n",
       "       66.983, 66.983, 66.983, 66.983, 66.983, 66.983, 66.983, 66.983,\n",
       "       66.983, 66.983, 66.983, 66.983, 66.983, 66.983, 66.983, 66.983,\n",
       "       66.983, 66.983, 66.983, 66.983, 66.983, 66.983, 66.983, 66.983,\n",
       "       66.983, 66.983, 66.983, 66.983, 66.983, 66.983, 66.983, 66.983,\n",
       "       66.983, 66.983, 66.983, 66.983, 66.983, 66.983, 66.983, 66.983,\n",
       "       66.983, 66.983, 66.983, 66.983, 66.983, 66.983, 66.983, 66.983,\n",
       "       66.983, 66.983, 66.983, 66.983, 66.983, 66.983, 66.983, 66.983,\n",
       "       66.983, 66.983, 66.983, 66.983, 66.983, 66.983, 66.983, 66.983,\n",
       "       66.983, 66.983, 66.983, 66.983, 66.983, 66.983, 66.983, 66.983,\n",
       "       66.983, 66.983, 66.983, 66.983, 66.983, 66.983, 66.983, 66.983,\n",
       "       66.983, 66.983, 66.983, 66.983, 66.983, 66.983, 66.983, 66.983,\n",
       "       66.983, 66.983, 66.983, 66.983, 66.983, 66.983, 66.983, 66.983,\n",
       "       66.983, 66.983, 66.983, 66.983, 66.983, 66.983, 66.983, 66.983,\n",
       "       66.983, 66.983, 66.983, 66.983, 66.983, 66.983, 66.983, 66.983,\n",
       "       66.983, 66.983, 66.983, 66.983, 66.983, 66.983, 66.983, 66.983,\n",
       "       66.983, 66.983, 66.983, 66.983, 66.983, 66.983, 66.983, 66.983,\n",
       "       66.983, 66.983, 66.983, 66.983, 66.983, 66.983, 66.983, 66.983,\n",
       "       66.972, 66.983, 66.983, 66.983, 66.983, 66.983, 66.983, 66.983,\n",
       "       66.983, 66.983, 66.983, 66.983, 66.983, 66.983, 66.983, 66.983,\n",
       "       66.983, 66.983, 66.983, 66.983, 66.983, 66.983, 66.983, 66.983,\n",
       "       66.983, 66.983, 66.983, 66.983, 66.983, 66.983, 66.983, 66.983,\n",
       "       66.983, 66.983, 66.983, 66.983, 66.983, 66.983, 66.983, 66.983,\n",
       "       66.983, 66.983, 66.983, 66.983, 66.983, 66.983, 66.983, 66.983,\n",
       "       66.983, 66.983, 66.983, 66.983, 66.983, 66.983, 66.983, 66.983,\n",
       "       66.983, 66.983, 66.983, 66.983, 66.983, 66.983, 66.983, 66.983,\n",
       "       66.983, 66.983, 66.983, 66.983, 66.983, 66.983, 66.983, 66.983,\n",
       "       66.983])"
      ]
     },
     "execution_count": 436,
     "metadata": {},
     "output_type": "execute_result"
    }
   ],
   "source": [
    "y_predict"
   ]
  },
  {
   "cell_type": "code",
   "execution_count": 427,
   "id": "e9188d67",
   "metadata": {
    "scrolled": true
   },
   "outputs": [
    {
     "data": {
      "text/plain": [
       "504    2017- 04- 04\n",
       "503    2017- 04- 05\n",
       "502    2017- 04- 06\n",
       "501    2017- 04- 07\n",
       "500    2017- 04- 10\n",
       "           ...     \n",
       "4      2019- 04- 01\n",
       "3      2019- 04- 02\n",
       "2      2019- 04- 03\n",
       "1      2019- 04- 04\n",
       "0      2019- 04- 05\n",
       "Name: 날짜, Length: 505, dtype: object"
      ]
     },
     "execution_count": 427,
     "metadata": {},
     "output_type": "execute_result"
    }
   ],
   "source": [
    "test['날짜']"
   ]
  },
  {
   "cell_type": "code",
   "execution_count": 439,
   "id": "dd6ee9c3",
   "metadata": {},
   "outputs": [
    {
     "data": {
      "image/png": "[encoded data removed]",
      "text/plain": [
       "<Figure size 1200x600 with 1 Axes>"
      ]
     },
     "metadata": {},
     "output_type": "display_data"
    }
   ],
   "source": [
    "import matplotlib.pyplot as plt\n",
    "import matplotlib.dates as mdates\n",
    "nke_data['날짜'] = pd.to_datetime(nke_data['날짜'])\n",
    "\n",
    "#dates = test['날짜']\n",
    "\n",
    "# 원하는 날짜 범위 설정\n",
    "start_date = '2017-04-04'\n",
    "end_date = '2019-04-05'\n",
    "\n",
    "# 해당하는 날짜 범위의 데이터 추출\n",
    "dates_range = nke_data[(nke_data['날짜'] >= start_date) & (nke_data['날짜'] <= end_date)]['날짜']\n",
    "y_predict_range = y_predict[(dates >= start_date) & (dates <= end_date)]\n",
    "y_test_range = y_test[(dates >= start_date) & (dates <= end_date)]\n",
    "\n",
    "plt.figure(figsize=(12, 6))\n",
    "plt.plot(dates_range, y_predict, label='Predicted', color='red')\n",
    "plt.plot(dates_range, y_test.values, label='Actual', color='blue')\n",
    "plt.xlabel('Date')\n",
    "plt.ylabel('NKE Close Price')\n",
    "\n",
    "# X 축 눈금 설정\n",
    "plt.gca().xaxis.set_major_locator(mdates.MonthLocator())  # 매 월 눈금 표시\n",
    "plt.gca().xaxis.set_major_formatter(mdates.DateFormatter('%Y-%m-%d'))  # 날짜 형식 지정\n",
    "plt.xticks(rotation=45)  # x축 레이블 회전\n",
    "\n",
    "plt.legend()\n",
    "plt.tight_layout()\n",
    "plt.show()\n"
   ]
  },
  {
   "cell_type": "code",
   "execution_count": 429,
   "id": "0ea82f35",
   "metadata": {},
   "outputs": [
    {
     "data": {
      "text/plain": [
       "<bound method Series.info of 504   2017-04-04\n",
       "503   2017-04-05\n",
       "502   2017-04-06\n",
       "501   2017-04-07\n",
       "500   2017-04-10\n",
       "         ...    \n",
       "4     2019-04-01\n",
       "3     2019-04-02\n",
       "2     2019-04-03\n",
       "1     2019-04-04\n",
       "0     2019-04-05\n",
       "Name: 날짜, Length: 505, dtype: datetime64[ns]>"
      ]
     },
     "execution_count": 429,
     "metadata": {},
     "output_type": "execute_result"
    }
   ],
   "source": [
    "dates_range.info"
   ]
  },
  {
   "cell_type": "code",
   "execution_count": null,
   "id": "788fdb70",
   "metadata": {},
   "outputs": [],
   "source": []
  }
 ],
 "metadata": {
  "kernelspec": {
   "display_name": "Python 3 (ipykernel)",
   "language": "python",
   "name": "python3"
  },
  "language_info": {
   "codemirror_mode": {
    "name": "ipython",
    "version": 3
   },
   "file_extension": ".py",
   "mimetype": "text/x-python",
   "name": "python",
   "nbconvert_exporter": "python",
   "pygments_lexer": "ipython3",
   "version": "3.11.5"
  }
 },
 "nbformat": 4,
 "nbformat_minor": 5
}
